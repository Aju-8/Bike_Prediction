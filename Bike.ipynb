{
 "cells": [
  {
   "cell_type": "code",
   "execution_count": 94,
   "id": "09af3e41",
   "metadata": {},
   "outputs": [],
   "source": [
    "import pandas as pd\n",
    "import numpy as np\n",
    "import matplotlib.pyplot as plt\n",
    "import seaborn as sn\n",
    "from scipy import stats\n",
    "from sklearn.linear_model import LinearRegression\n",
    "from sklearn.model_selection import train_test_split, RandomizedSearchCV\n",
    "from sklearn import metrics\n",
    "from sklearn.ensemble import RandomForestRegressor\n",
    "from sklearn.metrics import mean_squared_error\n",
    "import statsmodels.api as sm\n",
    "from math import sqrt\n",
    "import time\n",
    "import random\n",
    "import warnings\n",
    "warnings.filterwarnings(\"ignore\", category=DeprecationWarning)\n",
    "pd.options.mode.chained_assignment = None\n",
    "\n",
    "%matplotlib inline"
   ]
  },
  {
   "cell_type": "code",
   "execution_count": 95,
   "id": "cf3bcfbf",
   "metadata": {},
   "outputs": [],
   "source": [
    "data=pd.read_csv('bike_train.csv')"
   ]
  },
  {
   "cell_type": "code",
   "execution_count": 96,
   "id": "25c5a4f4",
   "metadata": {},
   "outputs": [
    {
     "data": {
      "text/html": [
       "<div>\n",
       "<style scoped>\n",
       "    .dataframe tbody tr th:only-of-type {\n",
       "        vertical-align: middle;\n",
       "    }\n",
       "\n",
       "    .dataframe tbody tr th {\n",
       "        vertical-align: top;\n",
       "    }\n",
       "\n",
       "    .dataframe thead th {\n",
       "        text-align: right;\n",
       "    }\n",
       "</style>\n",
       "<table border=\"1\" class=\"dataframe\">\n",
       "  <thead>\n",
       "    <tr style=\"text-align: right;\">\n",
       "      <th></th>\n",
       "      <th>ID</th>\n",
       "      <th>dteday</th>\n",
       "      <th>season</th>\n",
       "      <th>year</th>\n",
       "      <th>Month</th>\n",
       "      <th>is_holiday</th>\n",
       "      <th>weekdaynum</th>\n",
       "      <th>is_workingday</th>\n",
       "      <th>weathersituation</th>\n",
       "      <th>atemp_normalized</th>\n",
       "      <th>humidity_normalized</th>\n",
       "      <th>windspeed_normalized</th>\n",
       "      <th>total_rental</th>\n",
       "    </tr>\n",
       "  </thead>\n",
       "  <tbody>\n",
       "    <tr>\n",
       "      <th>0</th>\n",
       "      <td>A1</td>\n",
       "      <td>01-01-2011</td>\n",
       "      <td>1</td>\n",
       "      <td>0</td>\n",
       "      <td>1</td>\n",
       "      <td>0</td>\n",
       "      <td>6</td>\n",
       "      <td>0</td>\n",
       "      <td>2</td>\n",
       "      <td>0.363625</td>\n",
       "      <td>0.805833</td>\n",
       "      <td>0.160446</td>\n",
       "      <td>985</td>\n",
       "    </tr>\n",
       "    <tr>\n",
       "      <th>1</th>\n",
       "      <td>A2</td>\n",
       "      <td>02-01-2011</td>\n",
       "      <td>1</td>\n",
       "      <td>0</td>\n",
       "      <td>1</td>\n",
       "      <td>0</td>\n",
       "      <td>0</td>\n",
       "      <td>0</td>\n",
       "      <td>2</td>\n",
       "      <td>0.353739</td>\n",
       "      <td>0.696087</td>\n",
       "      <td>0.248539</td>\n",
       "      <td>801</td>\n",
       "    </tr>\n",
       "    <tr>\n",
       "      <th>2</th>\n",
       "      <td>A3</td>\n",
       "      <td>03-01-2011</td>\n",
       "      <td>1</td>\n",
       "      <td>0</td>\n",
       "      <td>1</td>\n",
       "      <td>0</td>\n",
       "      <td>1</td>\n",
       "      <td>1</td>\n",
       "      <td>1</td>\n",
       "      <td>0.189405</td>\n",
       "      <td>0.437273</td>\n",
       "      <td>0.248309</td>\n",
       "      <td>1349</td>\n",
       "    </tr>\n",
       "    <tr>\n",
       "      <th>3</th>\n",
       "      <td>A4</td>\n",
       "      <td>04-01-2011</td>\n",
       "      <td>1</td>\n",
       "      <td>0</td>\n",
       "      <td>1</td>\n",
       "      <td>0</td>\n",
       "      <td>2</td>\n",
       "      <td>1</td>\n",
       "      <td>1</td>\n",
       "      <td>0.212122</td>\n",
       "      <td>0.590435</td>\n",
       "      <td>0.160296</td>\n",
       "      <td>1562</td>\n",
       "    </tr>\n",
       "    <tr>\n",
       "      <th>4</th>\n",
       "      <td>A5</td>\n",
       "      <td>05-01-2011</td>\n",
       "      <td>1</td>\n",
       "      <td>0</td>\n",
       "      <td>1</td>\n",
       "      <td>0</td>\n",
       "      <td>3</td>\n",
       "      <td>1</td>\n",
       "      <td>1</td>\n",
       "      <td>0.229270</td>\n",
       "      <td>0.436957</td>\n",
       "      <td>0.186900</td>\n",
       "      <td>1600</td>\n",
       "    </tr>\n",
       "  </tbody>\n",
       "</table>\n",
       "</div>"
      ],
      "text/plain": [
       "   ID      dteday  season  year  Month  is_holiday  weekdaynum  is_workingday  \\\n",
       "0  A1  01-01-2011       1     0      1           0           6              0   \n",
       "1  A2  02-01-2011       1     0      1           0           0              0   \n",
       "2  A3  03-01-2011       1     0      1           0           1              1   \n",
       "3  A4  04-01-2011       1     0      1           0           2              1   \n",
       "4  A5  05-01-2011       1     0      1           0           3              1   \n",
       "\n",
       "   weathersituation  atemp_normalized  humidity_normalized  \\\n",
       "0                 2          0.363625             0.805833   \n",
       "1                 2          0.353739             0.696087   \n",
       "2                 1          0.189405             0.437273   \n",
       "3                 1          0.212122             0.590435   \n",
       "4                 1          0.229270             0.436957   \n",
       "\n",
       "   windspeed_normalized  total_rental  \n",
       "0              0.160446           985  \n",
       "1              0.248539           801  \n",
       "2              0.248309          1349  \n",
       "3              0.160296          1562  \n",
       "4              0.186900          1600  "
      ]
     },
     "execution_count": 96,
     "metadata": {},
     "output_type": "execute_result"
    }
   ],
   "source": [
    "data.head()"
   ]
  },
  {
   "cell_type": "code",
   "execution_count": 97,
   "id": "32e7611f",
   "metadata": {},
   "outputs": [
    {
     "data": {
      "text/plain": [
       "ID                      0\n",
       "dteday                  0\n",
       "season                  0\n",
       "year                    0\n",
       "Month                   0\n",
       "is_holiday              0\n",
       "weekdaynum              0\n",
       "is_workingday           0\n",
       "weathersituation        0\n",
       "atemp_normalized        0\n",
       "humidity_normalized     0\n",
       "windspeed_normalized    0\n",
       "total_rental            0\n",
       "dtype: int64"
      ]
     },
     "execution_count": 97,
     "metadata": {},
     "output_type": "execute_result"
    }
   ],
   "source": [
    "data.isnull().sum()"
   ]
  },
  {
   "cell_type": "code",
   "execution_count": 98,
   "id": "4badbef4",
   "metadata": {},
   "outputs": [
    {
     "data": {
      "text/plain": [
       "(599, 13)"
      ]
     },
     "execution_count": 98,
     "metadata": {},
     "output_type": "execute_result"
    }
   ],
   "source": [
    "data.shape"
   ]
  },
  {
   "cell_type": "code",
   "execution_count": 99,
   "id": "b7b2afc6",
   "metadata": {},
   "outputs": [
    {
     "data": {
      "text/html": [
       "<div>\n",
       "<style scoped>\n",
       "    .dataframe tbody tr th:only-of-type {\n",
       "        vertical-align: middle;\n",
       "    }\n",
       "\n",
       "    .dataframe tbody tr th {\n",
       "        vertical-align: top;\n",
       "    }\n",
       "\n",
       "    .dataframe thead th {\n",
       "        text-align: right;\n",
       "    }\n",
       "</style>\n",
       "<table border=\"1\" class=\"dataframe\">\n",
       "  <thead>\n",
       "    <tr style=\"text-align: right;\">\n",
       "      <th></th>\n",
       "      <th>season</th>\n",
       "      <th>year</th>\n",
       "      <th>Month</th>\n",
       "      <th>is_holiday</th>\n",
       "      <th>weekdaynum</th>\n",
       "      <th>is_workingday</th>\n",
       "      <th>weathersituation</th>\n",
       "      <th>atemp_normalized</th>\n",
       "      <th>humidity_normalized</th>\n",
       "      <th>windspeed_normalized</th>\n",
       "      <th>total_rental</th>\n",
       "    </tr>\n",
       "  </thead>\n",
       "  <tbody>\n",
       "    <tr>\n",
       "      <th>count</th>\n",
       "      <td>599.000000</td>\n",
       "      <td>599.000000</td>\n",
       "      <td>599.000000</td>\n",
       "      <td>599.000000</td>\n",
       "      <td>599.000000</td>\n",
       "      <td>599.000000</td>\n",
       "      <td>599.000000</td>\n",
       "      <td>599.000000</td>\n",
       "      <td>599.000000</td>\n",
       "      <td>599.000000</td>\n",
       "      <td>599.000000</td>\n",
       "    </tr>\n",
       "    <tr>\n",
       "      <th>mean</th>\n",
       "      <td>2.273790</td>\n",
       "      <td>0.390651</td>\n",
       "      <td>5.682805</td>\n",
       "      <td>0.026711</td>\n",
       "      <td>2.994992</td>\n",
       "      <td>0.686144</td>\n",
       "      <td>1.385643</td>\n",
       "      <td>0.480023</td>\n",
       "      <td>0.623634</td>\n",
       "      <td>0.193228</td>\n",
       "      <td>4220.602671</td>\n",
       "    </tr>\n",
       "    <tr>\n",
       "      <th>std</th>\n",
       "      <td>1.032173</td>\n",
       "      <td>0.488304</td>\n",
       "      <td>3.210490</td>\n",
       "      <td>0.161373</td>\n",
       "      <td>2.004587</td>\n",
       "      <td>0.464447</td>\n",
       "      <td>0.545453</td>\n",
       "      <td>0.168173</td>\n",
       "      <td>0.146536</td>\n",
       "      <td>0.075891</td>\n",
       "      <td>1819.667084</td>\n",
       "    </tr>\n",
       "    <tr>\n",
       "      <th>min</th>\n",
       "      <td>1.000000</td>\n",
       "      <td>0.000000</td>\n",
       "      <td>1.000000</td>\n",
       "      <td>0.000000</td>\n",
       "      <td>0.000000</td>\n",
       "      <td>0.000000</td>\n",
       "      <td>1.000000</td>\n",
       "      <td>0.079070</td>\n",
       "      <td>0.000000</td>\n",
       "      <td>0.022392</td>\n",
       "      <td>431.000000</td>\n",
       "    </tr>\n",
       "    <tr>\n",
       "      <th>25%</th>\n",
       "      <td>1.000000</td>\n",
       "      <td>0.000000</td>\n",
       "      <td>3.000000</td>\n",
       "      <td>0.000000</td>\n",
       "      <td>1.000000</td>\n",
       "      <td>0.000000</td>\n",
       "      <td>1.000000</td>\n",
       "      <td>0.339310</td>\n",
       "      <td>0.507500</td>\n",
       "      <td>0.138375</td>\n",
       "      <td>2904.000000</td>\n",
       "    </tr>\n",
       "    <tr>\n",
       "      <th>50%</th>\n",
       "      <td>2.000000</td>\n",
       "      <td>0.000000</td>\n",
       "      <td>5.000000</td>\n",
       "      <td>0.000000</td>\n",
       "      <td>3.000000</td>\n",
       "      <td>1.000000</td>\n",
       "      <td>1.000000</td>\n",
       "      <td>0.497463</td>\n",
       "      <td>0.622174</td>\n",
       "      <td>0.184700</td>\n",
       "      <td>4294.000000</td>\n",
       "    </tr>\n",
       "    <tr>\n",
       "      <th>75%</th>\n",
       "      <td>3.000000</td>\n",
       "      <td>1.000000</td>\n",
       "      <td>8.000000</td>\n",
       "      <td>0.000000</td>\n",
       "      <td>5.000000</td>\n",
       "      <td>1.000000</td>\n",
       "      <td>2.000000</td>\n",
       "      <td>0.623748</td>\n",
       "      <td>0.729583</td>\n",
       "      <td>0.233214</td>\n",
       "      <td>5353.500000</td>\n",
       "    </tr>\n",
       "    <tr>\n",
       "      <th>max</th>\n",
       "      <td>4.000000</td>\n",
       "      <td>1.000000</td>\n",
       "      <td>12.000000</td>\n",
       "      <td>1.000000</td>\n",
       "      <td>6.000000</td>\n",
       "      <td>1.000000</td>\n",
       "      <td>3.000000</td>\n",
       "      <td>0.840896</td>\n",
       "      <td>0.972500</td>\n",
       "      <td>0.507463</td>\n",
       "      <td>8362.000000</td>\n",
       "    </tr>\n",
       "  </tbody>\n",
       "</table>\n",
       "</div>"
      ],
      "text/plain": [
       "           season        year       Month  is_holiday  weekdaynum  \\\n",
       "count  599.000000  599.000000  599.000000  599.000000  599.000000   \n",
       "mean     2.273790    0.390651    5.682805    0.026711    2.994992   \n",
       "std      1.032173    0.488304    3.210490    0.161373    2.004587   \n",
       "min      1.000000    0.000000    1.000000    0.000000    0.000000   \n",
       "25%      1.000000    0.000000    3.000000    0.000000    1.000000   \n",
       "50%      2.000000    0.000000    5.000000    0.000000    3.000000   \n",
       "75%      3.000000    1.000000    8.000000    0.000000    5.000000   \n",
       "max      4.000000    1.000000   12.000000    1.000000    6.000000   \n",
       "\n",
       "       is_workingday  weathersituation  atemp_normalized  humidity_normalized  \\\n",
       "count     599.000000        599.000000        599.000000           599.000000   \n",
       "mean        0.686144          1.385643          0.480023             0.623634   \n",
       "std         0.464447          0.545453          0.168173             0.146536   \n",
       "min         0.000000          1.000000          0.079070             0.000000   \n",
       "25%         0.000000          1.000000          0.339310             0.507500   \n",
       "50%         1.000000          1.000000          0.497463             0.622174   \n",
       "75%         1.000000          2.000000          0.623748             0.729583   \n",
       "max         1.000000          3.000000          0.840896             0.972500   \n",
       "\n",
       "       windspeed_normalized  total_rental  \n",
       "count            599.000000    599.000000  \n",
       "mean               0.193228   4220.602671  \n",
       "std                0.075891   1819.667084  \n",
       "min                0.022392    431.000000  \n",
       "25%                0.138375   2904.000000  \n",
       "50%                0.184700   4294.000000  \n",
       "75%                0.233214   5353.500000  \n",
       "max                0.507463   8362.000000  "
      ]
     },
     "execution_count": 99,
     "metadata": {},
     "output_type": "execute_result"
    }
   ],
   "source": [
    "data.describe()"
   ]
  },
  {
   "cell_type": "code",
   "execution_count": 100,
   "id": "e5f5af18",
   "metadata": {},
   "outputs": [
    {
     "data": {
      "text/plain": [
       "2    184\n",
       "1    170\n",
       "3    156\n",
       "4     89\n",
       "Name: season, dtype: int64"
      ]
     },
     "execution_count": 100,
     "metadata": {},
     "output_type": "execute_result"
    }
   ],
   "source": [
    "data['season'].value_counts()"
   ]
  },
  {
   "cell_type": "code",
   "execution_count": 101,
   "id": "5fd77686",
   "metadata": {},
   "outputs": [
    {
     "data": {
      "text/plain": [
       "0    365\n",
       "1    234\n",
       "Name: year, dtype: int64"
      ]
     },
     "execution_count": 101,
     "metadata": {},
     "output_type": "execute_result"
    }
   ],
   "source": [
    "data['year'].value_counts()"
   ]
  },
  {
   "cell_type": "code",
   "execution_count": 102,
   "id": "8c7bef1c",
   "metadata": {},
   "outputs": [
    {
     "data": {
      "text/plain": [
       "1     62\n",
       "3     62\n",
       "5     62\n",
       "7     62\n",
       "4     60\n",
       "6     60\n",
       "2     57\n",
       "8     52\n",
       "10    31\n",
       "12    31\n",
       "9     30\n",
       "11    30\n",
       "Name: Month, dtype: int64"
      ]
     },
     "execution_count": 102,
     "metadata": {},
     "output_type": "execute_result"
    }
   ],
   "source": [
    "data['Month'].value_counts()"
   ]
  },
  {
   "cell_type": "code",
   "execution_count": 103,
   "id": "f96f0902",
   "metadata": {},
   "outputs": [
    {
     "data": {
      "text/plain": [
       "0    583\n",
       "1     16\n",
       "Name: is_holiday, dtype: int64"
      ]
     },
     "execution_count": 103,
     "metadata": {},
     "output_type": "execute_result"
    }
   ],
   "source": [
    "data['is_holiday'].value_counts()"
   ]
  },
  {
   "cell_type": "code",
   "execution_count": 104,
   "id": "bb776dab",
   "metadata": {},
   "outputs": [
    {
     "data": {
      "text/plain": [
       "6    86\n",
       "0    86\n",
       "1    86\n",
       "2    86\n",
       "3    85\n",
       "4    85\n",
       "5    85\n",
       "Name: weekdaynum, dtype: int64"
      ]
     },
     "execution_count": 104,
     "metadata": {},
     "output_type": "execute_result"
    }
   ],
   "source": [
    "data['weekdaynum'].value_counts()"
   ]
  },
  {
   "cell_type": "code",
   "execution_count": 105,
   "id": "43164b5e",
   "metadata": {},
   "outputs": [
    {
     "name": "stderr",
     "output_type": "stream",
     "text": [
      "C:\\Users\\HP\\anaconda3\\lib\\site-packages\\seaborn\\_decorators.py:36: FutureWarning: Pass the following variable as a keyword arg: x. From version 0.12, the only valid positional argument will be `data`, and passing other arguments without an explicit keyword will result in an error or misinterpretation.\n",
      "  warnings.warn(\n"
     ]
    },
    {
     "data": {
      "text/plain": [
       "<AxesSubplot:xlabel='season', ylabel='count'>"
      ]
     },
     "execution_count": 105,
     "metadata": {},
     "output_type": "execute_result"
    },
    {
     "data": {
      "image/png": "[encoded data removed]",
      "text/plain": [
       "<Figure size 432x288 with 1 Axes>"
      ]
     },
     "metadata": {
      "needs_background": "light"
     },
     "output_type": "display_data"
    }
   ],
   "source": [
    "sns.countplot(data.season)"
   ]
  },
  {
   "cell_type": "code",
   "execution_count": 106,
   "id": "b275b0bd",
   "metadata": {},
   "outputs": [
    {
     "name": "stderr",
     "output_type": "stream",
     "text": [
      "C:\\Users\\HP\\anaconda3\\lib\\site-packages\\seaborn\\_decorators.py:36: FutureWarning: Pass the following variable as a keyword arg: x. From version 0.12, the only valid positional argument will be `data`, and passing other arguments without an explicit keyword will result in an error or misinterpretation.\n",
      "  warnings.warn(\n"
     ]
    },
    {
     "data": {
      "text/plain": [
       "<AxesSubplot:xlabel='year', ylabel='count'>"
      ]
     },
     "execution_count": 106,
     "metadata": {},
     "output_type": "execute_result"
    },
    {
     "data": {
      "image/png": "[encoded data removed]",
      "text/plain": [
       "<Figure size 432x288 with 1 Axes>"
      ]
     },
     "metadata": {
      "needs_background": "light"
     },
     "output_type": "display_data"
    }
   ],
   "source": [
    "sns.countplot(data.year)"
   ]
  },
  {
   "cell_type": "code",
   "execution_count": 107,
   "id": "30cb6c62",
   "metadata": {},
   "outputs": [
    {
     "name": "stderr",
     "output_type": "stream",
     "text": [
      "C:\\Users\\HP\\anaconda3\\lib\\site-packages\\seaborn\\_decorators.py:36: FutureWarning: Pass the following variable as a keyword arg: x. From version 0.12, the only valid positional argument will be `data`, and passing other arguments without an explicit keyword will result in an error or misinterpretation.\n",
      "  warnings.warn(\n"
     ]
    },
    {
     "data": {
      "text/plain": [
       "<AxesSubplot:xlabel='Month', ylabel='count'>"
      ]
     },
     "execution_count": 107,
     "metadata": {},
     "output_type": "execute_result"
    },
    {
     "data": {
      "image/png": "[encoded data removed]",
      "text/plain": [
       "<Figure size 432x288 with 1 Axes>"
      ]
     },
     "metadata": {
      "needs_background": "light"
     },
     "output_type": "display_data"
    }
   ],
   "source": [
    "sns.countplot(data.Month)"
   ]
  },
  {
   "cell_type": "code",
   "execution_count": 108,
   "id": "fd41c126",
   "metadata": {},
   "outputs": [
    {
     "data": {
      "text/plain": [
       "<AxesSubplot:>"
      ]
     },
     "execution_count": 108,
     "metadata": {},
     "output_type": "execute_result"
    },
    {
     "data": {
      "image/png": "[encoded data removed]",
      "text/plain": [
       "<Figure size 432x288 with 1 Axes>"
      ]
     },
     "metadata": {
      "needs_background": "light"
     },
     "output_type": "display_data"
    }
   ],
   "source": [
    "data['total_rental'].hist()"
   ]
  },
  {
   "cell_type": "code",
   "execution_count": 109,
   "id": "2dc24051",
   "metadata": {},
   "outputs": [
    {
     "data": {
      "text/plain": [
       "Text(0, 0.5, 'Working Day')"
      ]
     },
     "execution_count": 109,
     "metadata": {},
     "output_type": "execute_result"
    },
    {
     "data": {
      "image/png": "[encoded data removed]",
      "text/plain": [
       "<Figure size 720x864 with 6 Axes>"
      ]
     },
     "metadata": {
      "needs_background": "light"
     },
     "output_type": "display_data"
    }
   ],
   "source": [
    "#Outlier analysis\n",
    "\n",
    "fig,axes=plt.subplots(nrows=3,ncols=2)\n",
    "fig.set_size_inches(10,12)\n",
    "plt.title('Boxplot')\n",
    "sns.boxplot(data=data,y='total_rental',x='season',ax=axes[0][0])\n",
    "plt.xlabel('Total Rental')\n",
    "plt.ylabel('Season')\n",
    "\n",
    "sns.boxplot(data=data,y='total_rental',x='is_holiday',ax=axes[0][1])\n",
    "plt.xlabel('Total Rental')\n",
    "plt.ylabel('Holiday')\n",
    "\n",
    "sns.boxplot(data=data,y='total_rental',x='weekdaynum',ax=axes[1][0])\n",
    "plt.xlabel('Total Rental')\n",
    "plt.ylabel('Weekday')\n",
    "\n",
    "sns.boxplot(data=data,y='total_rental',x='is_workingday',ax=axes[1][1])\n",
    "plt.xlabel('Total Rental')\n",
    "plt.ylabel('Working Day')"
   ]
  },
  {
   "cell_type": "code",
   "execution_count": 110,
   "id": "d5970316",
   "metadata": {},
   "outputs": [
    {
     "data": {
      "text/plain": [
       "<AxesSubplot:ylabel='total_rental'>"
      ]
     },
     "execution_count": 110,
     "metadata": {},
     "output_type": "execute_result"
    },
    {
     "data": {
      "image/png": "[encoded data removed]",
      "text/plain": [
       "<Figure size 432x288 with 1 Axes>"
      ]
     },
     "metadata": {
      "needs_background": "light"
     },
     "output_type": "display_data"
    }
   ],
   "source": [
    "sns.boxplot(data=data,y='total_rental')"
   ]
  },
  {
   "cell_type": "code",
   "execution_count": null,
   "id": "b20841c2",
   "metadata": {},
   "outputs": [],
   "source": [
    "data=data.drop(['ID','dteday'],axis=1)"
   ]
  },
  {
   "cell_type": "code",
   "execution_count": 112,
   "id": "55b5016e",
   "metadata": {},
   "outputs": [],
   "source": [
    "#Correlation Analysis\n",
    "\n",
    "data_corr=data.corr()"
   ]
  },
  {
   "cell_type": "code",
   "execution_count": 113,
   "id": "60c7f8a4",
   "metadata": {},
   "outputs": [
    {
     "data": {
      "text/html": [
       "<div>\n",
       "<style scoped>\n",
       "    .dataframe tbody tr th:only-of-type {\n",
       "        vertical-align: middle;\n",
       "    }\n",
       "\n",
       "    .dataframe tbody tr th {\n",
       "        vertical-align: top;\n",
       "    }\n",
       "\n",
       "    .dataframe thead th {\n",
       "        text-align: right;\n",
       "    }\n",
       "</style>\n",
       "<table border=\"1\" class=\"dataframe\">\n",
       "  <thead>\n",
       "    <tr style=\"text-align: right;\">\n",
       "      <th></th>\n",
       "      <th>season</th>\n",
       "      <th>year</th>\n",
       "      <th>Month</th>\n",
       "      <th>is_holiday</th>\n",
       "      <th>weekdaynum</th>\n",
       "      <th>is_workingday</th>\n",
       "      <th>weathersituation</th>\n",
       "      <th>atemp_normalized</th>\n",
       "      <th>humidity_normalized</th>\n",
       "      <th>windspeed_normalized</th>\n",
       "      <th>total_rental</th>\n",
       "    </tr>\n",
       "  </thead>\n",
       "  <tbody>\n",
       "    <tr>\n",
       "      <th>season</th>\n",
       "      <td>1.000000</td>\n",
       "      <td>-0.272285</td>\n",
       "      <td>0.863940</td>\n",
       "      <td>-0.013861</td>\n",
       "      <td>-0.000953</td>\n",
       "      <td>0.008625</td>\n",
       "      <td>0.026003</td>\n",
       "      <td>0.465360</td>\n",
       "      <td>0.226960</td>\n",
       "      <td>-0.231923</td>\n",
       "      <td>0.304522</td>\n",
       "    </tr>\n",
       "    <tr>\n",
       "      <th>year</th>\n",
       "      <td>-0.272285</td>\n",
       "      <td>1.000000</td>\n",
       "      <td>-0.328301</td>\n",
       "      <td>-0.005314</td>\n",
       "      <td>-0.008248</td>\n",
       "      <td>0.003262</td>\n",
       "      <td>-0.083129</td>\n",
       "      <td>0.098023</td>\n",
       "      <td>-0.170869</td>\n",
       "      <td>0.030063</td>\n",
       "      <td>0.559735</td>\n",
       "    </tr>\n",
       "    <tr>\n",
       "      <th>Month</th>\n",
       "      <td>0.863940</td>\n",
       "      <td>-0.328301</td>\n",
       "      <td>1.000000</td>\n",
       "      <td>0.003470</td>\n",
       "      <td>0.012745</td>\n",
       "      <td>0.002655</td>\n",
       "      <td>0.016494</td>\n",
       "      <td>0.397918</td>\n",
       "      <td>0.241805</td>\n",
       "      <td>-0.236024</td>\n",
       "      <td>0.223877</td>\n",
       "    </tr>\n",
       "    <tr>\n",
       "      <th>is_holiday</th>\n",
       "      <td>-0.013861</td>\n",
       "      <td>-0.005314</td>\n",
       "      <td>0.003470</td>\n",
       "      <td>1.000000</td>\n",
       "      <td>-0.097805</td>\n",
       "      <td>-0.244945</td>\n",
       "      <td>-0.041231</td>\n",
       "      <td>-0.032953</td>\n",
       "      <td>-0.044314</td>\n",
       "      <td>0.031698</td>\n",
       "      <td>-0.058734</td>\n",
       "    </tr>\n",
       "    <tr>\n",
       "      <th>weekdaynum</th>\n",
       "      <td>-0.000953</td>\n",
       "      <td>-0.008248</td>\n",
       "      <td>0.012745</td>\n",
       "      <td>-0.097805</td>\n",
       "      <td>1.000000</td>\n",
       "      <td>0.032435</td>\n",
       "      <td>0.047651</td>\n",
       "      <td>-0.012996</td>\n",
       "      <td>-0.036588</td>\n",
       "      <td>0.016627</td>\n",
       "      <td>0.043399</td>\n",
       "    </tr>\n",
       "    <tr>\n",
       "      <th>is_workingday</th>\n",
       "      <td>0.008625</td>\n",
       "      <td>0.003262</td>\n",
       "      <td>0.002655</td>\n",
       "      <td>-0.244945</td>\n",
       "      <td>0.032435</td>\n",
       "      <td>1.000000</td>\n",
       "      <td>0.062714</td>\n",
       "      <td>0.050361</td>\n",
       "      <td>0.028939</td>\n",
       "      <td>-0.003986</td>\n",
       "      <td>0.049295</td>\n",
       "    </tr>\n",
       "    <tr>\n",
       "      <th>weathersituation</th>\n",
       "      <td>0.026003</td>\n",
       "      <td>-0.083129</td>\n",
       "      <td>0.016494</td>\n",
       "      <td>-0.041231</td>\n",
       "      <td>0.047651</td>\n",
       "      <td>0.062714</td>\n",
       "      <td>1.000000</td>\n",
       "      <td>-0.119357</td>\n",
       "      <td>0.587124</td>\n",
       "      <td>0.026010</td>\n",
       "      <td>-0.301159</td>\n",
       "    </tr>\n",
       "    <tr>\n",
       "      <th>atemp_normalized</th>\n",
       "      <td>0.465360</td>\n",
       "      <td>0.098023</td>\n",
       "      <td>0.397918</td>\n",
       "      <td>-0.032953</td>\n",
       "      <td>-0.012996</td>\n",
       "      <td>0.050361</td>\n",
       "      <td>-0.119357</td>\n",
       "      <td>1.000000</td>\n",
       "      <td>0.132414</td>\n",
       "      <td>-0.189352</td>\n",
       "      <td>0.691329</td>\n",
       "    </tr>\n",
       "    <tr>\n",
       "      <th>humidity_normalized</th>\n",
       "      <td>0.226960</td>\n",
       "      <td>-0.170869</td>\n",
       "      <td>0.241805</td>\n",
       "      <td>-0.044314</td>\n",
       "      <td>-0.036588</td>\n",
       "      <td>0.028939</td>\n",
       "      <td>0.587124</td>\n",
       "      <td>0.132414</td>\n",
       "      <td>1.000000</td>\n",
       "      <td>-0.255905</td>\n",
       "      <td>-0.121141</td>\n",
       "    </tr>\n",
       "    <tr>\n",
       "      <th>windspeed_normalized</th>\n",
       "      <td>-0.231923</td>\n",
       "      <td>0.030063</td>\n",
       "      <td>-0.236024</td>\n",
       "      <td>0.031698</td>\n",
       "      <td>0.016627</td>\n",
       "      <td>-0.003986</td>\n",
       "      <td>0.026010</td>\n",
       "      <td>-0.189352</td>\n",
       "      <td>-0.255905</td>\n",
       "      <td>1.000000</td>\n",
       "      <td>-0.208880</td>\n",
       "    </tr>\n",
       "    <tr>\n",
       "      <th>total_rental</th>\n",
       "      <td>0.304522</td>\n",
       "      <td>0.559735</td>\n",
       "      <td>0.223877</td>\n",
       "      <td>-0.058734</td>\n",
       "      <td>0.043399</td>\n",
       "      <td>0.049295</td>\n",
       "      <td>-0.301159</td>\n",
       "      <td>0.691329</td>\n",
       "      <td>-0.121141</td>\n",
       "      <td>-0.208880</td>\n",
       "      <td>1.000000</td>\n",
       "    </tr>\n",
       "  </tbody>\n",
       "</table>\n",
       "</div>"
      ],
      "text/plain": [
       "                        season      year     Month  is_holiday  weekdaynum  \\\n",
       "season                1.000000 -0.272285  0.863940   -0.013861   -0.000953   \n",
       "year                 -0.272285  1.000000 -0.328301   -0.005314   -0.008248   \n",
       "Month                 0.863940 -0.328301  1.000000    0.003470    0.012745   \n",
       "is_holiday           -0.013861 -0.005314  0.003470    1.000000   -0.097805   \n",
       "weekdaynum           -0.000953 -0.008248  0.012745   -0.097805    1.000000   \n",
       "is_workingday         0.008625  0.003262  0.002655   -0.244945    0.032435   \n",
       "weathersituation      0.026003 -0.083129  0.016494   -0.041231    0.047651   \n",
       "atemp_normalized      0.465360  0.098023  0.397918   -0.032953   -0.012996   \n",
       "humidity_normalized   0.226960 -0.170869  0.241805   -0.044314   -0.036588   \n",
       "windspeed_normalized -0.231923  0.030063 -0.236024    0.031698    0.016627   \n",
       "total_rental          0.304522  0.559735  0.223877   -0.058734    0.043399   \n",
       "\n",
       "                      is_workingday  weathersituation  atemp_normalized  \\\n",
       "season                     0.008625          0.026003          0.465360   \n",
       "year                       0.003262         -0.083129          0.098023   \n",
       "Month                      0.002655          0.016494          0.397918   \n",
       "is_holiday                -0.244945         -0.041231         -0.032953   \n",
       "weekdaynum                 0.032435          0.047651         -0.012996   \n",
       "is_workingday              1.000000          0.062714          0.050361   \n",
       "weathersituation           0.062714          1.000000         -0.119357   \n",
       "atemp_normalized           0.050361         -0.119357          1.000000   \n",
       "humidity_normalized        0.028939          0.587124          0.132414   \n",
       "windspeed_normalized      -0.003986          0.026010         -0.189352   \n",
       "total_rental               0.049295         -0.301159          0.691329   \n",
       "\n",
       "                      humidity_normalized  windspeed_normalized  total_rental  \n",
       "season                           0.226960             -0.231923      0.304522  \n",
       "year                            -0.170869              0.030063      0.559735  \n",
       "Month                            0.241805             -0.236024      0.223877  \n",
       "is_holiday                      -0.044314              0.031698     -0.058734  \n",
       "weekdaynum                      -0.036588              0.016627      0.043399  \n",
       "is_workingday                    0.028939             -0.003986      0.049295  \n",
       "weathersituation                 0.587124              0.026010     -0.301159  \n",
       "atemp_normalized                 0.132414             -0.189352      0.691329  \n",
       "humidity_normalized              1.000000             -0.255905     -0.121141  \n",
       "windspeed_normalized            -0.255905              1.000000     -0.208880  \n",
       "total_rental                    -0.121141             -0.208880      1.000000  "
      ]
     },
     "execution_count": 113,
     "metadata": {},
     "output_type": "execute_result"
    }
   ],
   "source": [
    "data_corr"
   ]
  },
  {
   "cell_type": "code",
   "execution_count": 114,
   "id": "cfdafb62",
   "metadata": {},
   "outputs": [
    {
     "data": {
      "text/plain": [
       "<AxesSubplot:>"
      ]
     },
     "execution_count": 114,
     "metadata": {},
     "output_type": "execute_result"
    },
    {
     "data": {
      "image/png": "[encoded data removed]",
      "text/plain": [
       "<Figure size 432x288 with 2 Axes>"
      ]
     },
     "metadata": {
      "needs_background": "light"
     },
     "output_type": "display_data"
    }
   ],
   "source": [
    "sns.heatmap(data_corr)"
   ]
  },
  {
   "cell_type": "code",
   "execution_count": 115,
   "id": "28210b5d",
   "metadata": {},
   "outputs": [],
   "source": [
    "#Finding of correlation Analysis\n",
    "\n",
    "# Season and year are negatively highly correlated\n",
    "# season and month are positively highly correlated\n",
    "# total_rental and weathersitutaion are negatively highly correlated\n",
    "# total_rental and windspeed_normalized are negatively highly correlated"
   ]
  },
  {
   "cell_type": "code",
   "execution_count": 116,
   "id": "fb44ab46",
   "metadata": {},
   "outputs": [
    {
     "data": {
      "text/plain": [
       "<AxesSubplot:xlabel='total_rental', ylabel='windspeed_normalized'>"
      ]
     },
     "execution_count": 116,
     "metadata": {},
     "output_type": "execute_result"
    },
    {
     "data": {
      "image/png": "[encoded data removed]",
      "text/plain": [
       "<Figure size 1080x432 with 3 Axes>"
      ]
     },
     "metadata": {
      "needs_background": "light"
     },
     "output_type": "display_data"
    }
   ],
   "source": [
    "fig,(ax1,ax2,ax3)=plt.subplots(ncols=3)\n",
    "fig.set_size_inches(15,6)\n",
    "sns.regplot(data=data,x='total_rental',y='atemp_normalized',ax=ax1,color='green')\n",
    "sns.regplot(data=data,x='total_rental',y='humidity_normalized',ax=ax2,color='red')\n",
    "sns.regplot(data=data,x='total_rental',y='windspeed_normalized',ax=ax3,color='blue')"
   ]
  },
  {
   "cell_type": "code",
   "execution_count": 117,
   "id": "8f479885",
   "metadata": {},
   "outputs": [
    {
     "name": "stderr",
     "output_type": "stream",
     "text": [
      "C:\\Users\\HP\\anaconda3\\lib\\site-packages\\seaborn\\distributions.py:2619: FutureWarning: `distplot` is a deprecated function and will be removed in a future version. Please adapt your code to use either `displot` (a figure-level function with similar flexibility) or `histplot` (an axes-level function for histograms).\n",
      "  warnings.warn(msg, FutureWarning)\n"
     ]
    },
    {
     "data": {
      "text/plain": [
       "<AxesSubplot:xlabel='total_rental', ylabel='Density'>"
      ]
     },
     "execution_count": 117,
     "metadata": {},
     "output_type": "execute_result"
    },
    {
     "data": {
      "image/png": "[encoded data removed]",
      "text/plain": [
       "<Figure size 720x504 with 1 Axes>"
      ]
     },
     "metadata": {
      "needs_background": "light"
     },
     "output_type": "display_data"
    }
   ],
   "source": [
    "fig,(ax1)=plt.subplots(ncols=1)\n",
    "fig.set_size_inches(10,7)\n",
    "sns.distplot(data['total_rental'])"
   ]
  },
  {
   "cell_type": "code",
   "execution_count": 118,
   "id": "684a5fa0",
   "metadata": {},
   "outputs": [],
   "source": [
    "train_data=data.iloc[:,data.columns!='total_rental']\n",
    "target_data=data['total_rental']"
   ]
  },
  {
   "cell_type": "code",
   "execution_count": 119,
   "id": "5c2e9fe1",
   "metadata": {},
   "outputs": [
    {
     "data": {
      "text/html": [
       "<div>\n",
       "<style scoped>\n",
       "    .dataframe tbody tr th:only-of-type {\n",
       "        vertical-align: middle;\n",
       "    }\n",
       "\n",
       "    .dataframe tbody tr th {\n",
       "        vertical-align: top;\n",
       "    }\n",
       "\n",
       "    .dataframe thead th {\n",
       "        text-align: right;\n",
       "    }\n",
       "</style>\n",
       "<table border=\"1\" class=\"dataframe\">\n",
       "  <thead>\n",
       "    <tr style=\"text-align: right;\">\n",
       "      <th></th>\n",
       "      <th>season</th>\n",
       "      <th>year</th>\n",
       "      <th>Month</th>\n",
       "      <th>is_holiday</th>\n",
       "      <th>weekdaynum</th>\n",
       "      <th>is_workingday</th>\n",
       "      <th>weathersituation</th>\n",
       "      <th>atemp_normalized</th>\n",
       "      <th>humidity_normalized</th>\n",
       "      <th>windspeed_normalized</th>\n",
       "    </tr>\n",
       "  </thead>\n",
       "  <tbody>\n",
       "    <tr>\n",
       "      <th>0</th>\n",
       "      <td>1</td>\n",
       "      <td>0</td>\n",
       "      <td>1</td>\n",
       "      <td>0</td>\n",
       "      <td>6</td>\n",
       "      <td>0</td>\n",
       "      <td>2</td>\n",
       "      <td>0.363625</td>\n",
       "      <td>0.805833</td>\n",
       "      <td>0.160446</td>\n",
       "    </tr>\n",
       "    <tr>\n",
       "      <th>1</th>\n",
       "      <td>1</td>\n",
       "      <td>0</td>\n",
       "      <td>1</td>\n",
       "      <td>0</td>\n",
       "      <td>0</td>\n",
       "      <td>0</td>\n",
       "      <td>2</td>\n",
       "      <td>0.353739</td>\n",
       "      <td>0.696087</td>\n",
       "      <td>0.248539</td>\n",
       "    </tr>\n",
       "    <tr>\n",
       "      <th>2</th>\n",
       "      <td>1</td>\n",
       "      <td>0</td>\n",
       "      <td>1</td>\n",
       "      <td>0</td>\n",
       "      <td>1</td>\n",
       "      <td>1</td>\n",
       "      <td>1</td>\n",
       "      <td>0.189405</td>\n",
       "      <td>0.437273</td>\n",
       "      <td>0.248309</td>\n",
       "    </tr>\n",
       "    <tr>\n",
       "      <th>3</th>\n",
       "      <td>1</td>\n",
       "      <td>0</td>\n",
       "      <td>1</td>\n",
       "      <td>0</td>\n",
       "      <td>2</td>\n",
       "      <td>1</td>\n",
       "      <td>1</td>\n",
       "      <td>0.212122</td>\n",
       "      <td>0.590435</td>\n",
       "      <td>0.160296</td>\n",
       "    </tr>\n",
       "    <tr>\n",
       "      <th>4</th>\n",
       "      <td>1</td>\n",
       "      <td>0</td>\n",
       "      <td>1</td>\n",
       "      <td>0</td>\n",
       "      <td>3</td>\n",
       "      <td>1</td>\n",
       "      <td>1</td>\n",
       "      <td>0.229270</td>\n",
       "      <td>0.436957</td>\n",
       "      <td>0.186900</td>\n",
       "    </tr>\n",
       "  </tbody>\n",
       "</table>\n",
       "</div>"
      ],
      "text/plain": [
       "   season  year  Month  is_holiday  weekdaynum  is_workingday  \\\n",
       "0       1     0      1           0           6              0   \n",
       "1       1     0      1           0           0              0   \n",
       "2       1     0      1           0           1              1   \n",
       "3       1     0      1           0           2              1   \n",
       "4       1     0      1           0           3              1   \n",
       "\n",
       "   weathersituation  atemp_normalized  humidity_normalized  \\\n",
       "0                 2          0.363625             0.805833   \n",
       "1                 2          0.353739             0.696087   \n",
       "2                 1          0.189405             0.437273   \n",
       "3                 1          0.212122             0.590435   \n",
       "4                 1          0.229270             0.436957   \n",
       "\n",
       "   windspeed_normalized  \n",
       "0              0.160446  \n",
       "1              0.248539  \n",
       "2              0.248309  \n",
       "3              0.160296  \n",
       "4              0.186900  "
      ]
     },
     "execution_count": 119,
     "metadata": {},
     "output_type": "execute_result"
    }
   ],
   "source": [
    "train_data.head()"
   ]
  },
  {
   "cell_type": "code",
   "execution_count": 120,
   "id": "b954ff63",
   "metadata": {},
   "outputs": [
    {
     "data": {
      "text/plain": [
       "0     985\n",
       "1     801\n",
       "2    1349\n",
       "3    1562\n",
       "4    1600\n",
       "Name: total_rental, dtype: int64"
      ]
     },
     "execution_count": 120,
     "metadata": {},
     "output_type": "execute_result"
    }
   ],
   "source": [
    "target_data.head()"
   ]
  },
  {
   "cell_type": "code",
   "execution_count": 122,
   "id": "860f0786",
   "metadata": {},
   "outputs": [],
   "source": [
    "x_train,x_test,y_train,y_test=train_test_split(train_data,target_data,test_size=0.25,random_state=1)"
   ]
  },
  {
   "cell_type": "code",
   "execution_count": 126,
   "id": "b6e85995",
   "metadata": {},
   "outputs": [
    {
     "name": "stdout",
     "output_type": "stream",
     "text": [
      "(449, 10)\n",
      "(150, 10)\n",
      "(449,)\n",
      "(150,)\n"
     ]
    }
   ],
   "source": [
    "print(x_train.shape)\n",
    "print(x_test.shape)\n",
    "print(y_train.shape)\n",
    "print(y_test.shape)"
   ]
  },
  {
   "cell_type": "code",
   "execution_count": 129,
   "id": "8f0bb00b",
   "metadata": {},
   "outputs": [
    {
     "name": "stderr",
     "output_type": "stream",
     "text": [
      "C:\\Users\\HP\\anaconda3\\lib\\site-packages\\statsmodels\\tsa\\tsatools.py:142: FutureWarning: In a future version of pandas all arguments of concat except for the argument 'objs' will be keyword-only\n",
      "  x = pd.concat(x[::order], 1)\n"
     ]
    }
   ],
   "source": [
    "x=x_train\n",
    "x=sm.add_constant(x)\n",
    "y=np.log(y_train)\n",
    "model=sm.OLS(y,x.astype(float)).fit()"
   ]
  },
  {
   "cell_type": "code",
   "execution_count": 130,
   "id": "ef6b4d1b",
   "metadata": {},
   "outputs": [
    {
     "data": {
      "text/html": [
       "<table class=\"simpletable\">\n",
       "<caption>OLS Regression Results</caption>\n",
       "<tr>\n",
       "  <th>Dep. Variable:</th>      <td>total_rental</td>   <th>  R-squared:         </th> <td>   0.741</td> \n",
       "</tr>\n",
       "<tr>\n",
       "  <th>Model:</th>                   <td>OLS</td>       <th>  Adj. R-squared:    </th> <td>   0.736</td> \n",
       "</tr>\n",
       "<tr>\n",
       "  <th>Method:</th>             <td>Least Squares</td>  <th>  F-statistic:       </th> <td>   125.6</td> \n",
       "</tr>\n",
       "<tr>\n",
       "  <th>Date:</th>             <td>Thu, 02 Jun 2022</td> <th>  Prob (F-statistic):</th> <td>6.97e-122</td>\n",
       "</tr>\n",
       "<tr>\n",
       "  <th>Time:</th>                 <td>21:34:29</td>     <th>  Log-Likelihood:    </th> <td> -59.223</td> \n",
       "</tr>\n",
       "<tr>\n",
       "  <th>No. Observations:</th>      <td>   449</td>      <th>  AIC:               </th> <td>   140.4</td> \n",
       "</tr>\n",
       "<tr>\n",
       "  <th>Df Residuals:</th>          <td>   438</td>      <th>  BIC:               </th> <td>   185.6</td> \n",
       "</tr>\n",
       "<tr>\n",
       "  <th>Df Model:</th>              <td>    10</td>      <th>                     </th>     <td> </td>    \n",
       "</tr>\n",
       "<tr>\n",
       "  <th>Covariance Type:</th>      <td>nonrobust</td>    <th>                     </th>     <td> </td>    \n",
       "</tr>\n",
       "</table>\n",
       "<table class=\"simpletable\">\n",
       "<tr>\n",
       "            <td></td>              <th>coef</th>     <th>std err</th>      <th>t</th>      <th>P>|t|</th>  <th>[0.025</th>    <th>0.975]</th>  \n",
       "</tr>\n",
       "<tr>\n",
       "  <th>const</th>                <td>    7.3783</td> <td>    0.094</td> <td>   78.096</td> <td> 0.000</td> <td>    7.193</td> <td>    7.564</td>\n",
       "</tr>\n",
       "<tr>\n",
       "  <th>season</th>               <td>    0.1439</td> <td>    0.027</td> <td>    5.334</td> <td> 0.000</td> <td>    0.091</td> <td>    0.197</td>\n",
       "</tr>\n",
       "<tr>\n",
       "  <th>year</th>                 <td>    0.5113</td> <td>    0.030</td> <td>   17.043</td> <td> 0.000</td> <td>    0.452</td> <td>    0.570</td>\n",
       "</tr>\n",
       "<tr>\n",
       "  <th>Month</th>                <td>   -0.0054</td> <td>    0.008</td> <td>   -0.630</td> <td> 0.529</td> <td>   -0.022</td> <td>    0.011</td>\n",
       "</tr>\n",
       "<tr>\n",
       "  <th>is_holiday</th>           <td>   -0.1634</td> <td>    0.082</td> <td>   -1.997</td> <td> 0.046</td> <td>   -0.324</td> <td>   -0.003</td>\n",
       "</tr>\n",
       "<tr>\n",
       "  <th>weekdaynum</th>           <td>    0.0083</td> <td>    0.007</td> <td>    1.265</td> <td> 0.207</td> <td>   -0.005</td> <td>    0.021</td>\n",
       "</tr>\n",
       "<tr>\n",
       "  <th>is_workingday</th>        <td>    0.0524</td> <td>    0.029</td> <td>    1.787</td> <td> 0.075</td> <td>   -0.005</td> <td>    0.110</td>\n",
       "</tr>\n",
       "<tr>\n",
       "  <th>weathersituation</th>     <td>   -0.1966</td> <td>    0.031</td> <td>   -6.242</td> <td> 0.000</td> <td>   -0.258</td> <td>   -0.135</td>\n",
       "</tr>\n",
       "<tr>\n",
       "  <th>atemp_normalized</th>     <td>    1.5995</td> <td>    0.096</td> <td>   16.668</td> <td> 0.000</td> <td>    1.411</td> <td>    1.788</td>\n",
       "</tr>\n",
       "<tr>\n",
       "  <th>humidity_normalized</th>  <td>   -0.1315</td> <td>    0.121</td> <td>   -1.089</td> <td> 0.277</td> <td>   -0.369</td> <td>    0.106</td>\n",
       "</tr>\n",
       "<tr>\n",
       "  <th>windspeed_normalized</th> <td>   -0.6564</td> <td>    0.187</td> <td>   -3.516</td> <td> 0.000</td> <td>   -1.023</td> <td>   -0.290</td>\n",
       "</tr>\n",
       "</table>\n",
       "<table class=\"simpletable\">\n",
       "<tr>\n",
       "  <th>Omnibus:</th>       <td>133.602</td> <th>  Durbin-Watson:     </th> <td>   1.968</td>\n",
       "</tr>\n",
       "<tr>\n",
       "  <th>Prob(Omnibus):</th> <td> 0.000</td>  <th>  Jarque-Bera (JB):  </th> <td> 389.358</td>\n",
       "</tr>\n",
       "<tr>\n",
       "  <th>Skew:</th>          <td>-1.407</td>  <th>  Prob(JB):          </th> <td>2.83e-85</td>\n",
       "</tr>\n",
       "<tr>\n",
       "  <th>Kurtosis:</th>      <td> 6.591</td>  <th>  Cond. No.          </th> <td>    119.</td>\n",
       "</tr>\n",
       "</table><br/><br/>Notes:<br/>[1] Standard Errors assume that the covariance matrix of the errors is correctly specified."
      ],
      "text/plain": [
       "<class 'statsmodels.iolib.summary.Summary'>\n",
       "\"\"\"\n",
       "                            OLS Regression Results                            \n",
       "==============================================================================\n",
       "Dep. Variable:           total_rental   R-squared:                       0.741\n",
       "Model:                            OLS   Adj. R-squared:                  0.736\n",
       "Method:                 Least Squares   F-statistic:                     125.6\n",
       "Date:                Thu, 02 Jun 2022   Prob (F-statistic):          6.97e-122\n",
       "Time:                        21:34:29   Log-Likelihood:                -59.223\n",
       "No. Observations:                 449   AIC:                             140.4\n",
       "Df Residuals:                     438   BIC:                             185.6\n",
       "Df Model:                          10                                         \n",
       "Covariance Type:            nonrobust                                         \n",
       "========================================================================================\n",
       "                           coef    std err          t      P>|t|      [0.025      0.975]\n",
       "----------------------------------------------------------------------------------------\n",
       "const                    7.3783      0.094     78.096      0.000       7.193       7.564\n",
       "season                   0.1439      0.027      5.334      0.000       0.091       0.197\n",
       "year                     0.5113      0.030     17.043      0.000       0.452       0.570\n",
       "Month                   -0.0054      0.008     -0.630      0.529      -0.022       0.011\n",
       "is_holiday              -0.1634      0.082     -1.997      0.046      -0.324      -0.003\n",
       "weekdaynum               0.0083      0.007      1.265      0.207      -0.005       0.021\n",
       "is_workingday            0.0524      0.029      1.787      0.075      -0.005       0.110\n",
       "weathersituation        -0.1966      0.031     -6.242      0.000      -0.258      -0.135\n",
       "atemp_normalized         1.5995      0.096     16.668      0.000       1.411       1.788\n",
       "humidity_normalized     -0.1315      0.121     -1.089      0.277      -0.369       0.106\n",
       "windspeed_normalized    -0.6564      0.187     -3.516      0.000      -1.023      -0.290\n",
       "==============================================================================\n",
       "Omnibus:                      133.602   Durbin-Watson:                   1.968\n",
       "Prob(Omnibus):                  0.000   Jarque-Bera (JB):              389.358\n",
       "Skew:                          -1.407   Prob(JB):                     2.83e-85\n",
       "Kurtosis:                       6.591   Cond. No.                         119.\n",
       "==============================================================================\n",
       "\n",
       "Notes:\n",
       "[1] Standard Errors assume that the covariance matrix of the errors is correctly specified.\n",
       "\"\"\""
      ]
     },
     "execution_count": 130,
     "metadata": {},
     "output_type": "execute_result"
    }
   ],
   "source": [
    "model.summary()"
   ]
  },
  {
   "cell_type": "code",
   "execution_count": 131,
   "id": "259968e6",
   "metadata": {},
   "outputs": [
    {
     "data": {
      "text/plain": [
       "LinearRegression()"
      ]
     },
     "execution_count": 131,
     "metadata": {},
     "output_type": "execute_result"
    }
   ],
   "source": [
    "linear=LinearRegression()\n",
    "linear.fit(x_train,y_train)"
   ]
  },
  {
   "cell_type": "code",
   "execution_count": 132,
   "id": "dc0184a9",
   "metadata": {},
   "outputs": [],
   "source": [
    "lmpredict=linear.predict(x_test)"
   ]
  },
  {
   "cell_type": "code",
   "execution_count": 134,
   "id": "b53e507f",
   "metadata": {},
   "outputs": [],
   "source": [
    "lm_errors=mean_squared_error(lmpredict,y_test)"
   ]
  },
  {
   "cell_type": "code",
   "execution_count": 135,
   "id": "eaeb62dd",
   "metadata": {},
   "outputs": [
    {
     "name": "stdout",
     "output_type": "stream",
     "text": [
      "The Mean Square Error  591076.3416701587\n"
     ]
    }
   ],
   "source": [
    "print(\"The Mean Square Error \",lm_errors)"
   ]
  },
  {
   "cell_type": "code",
   "execution_count": 136,
   "id": "eb0290db",
   "metadata": {},
   "outputs": [],
   "source": [
    "rmse=sqrt(mean_squared_error(lmpredict,y_test))"
   ]
  },
  {
   "cell_type": "code",
   "execution_count": 137,
   "id": "e91ac408",
   "metadata": {},
   "outputs": [
    {
     "data": {
      "text/plain": [
       "768.8148942822054"
      ]
     },
     "execution_count": 137,
     "metadata": {},
     "output_type": "execute_result"
    }
   ],
   "source": [
    "rmse"
   ]
  },
  {
   "cell_type": "code",
   "execution_count": 141,
   "id": "4cb907e6",
   "metadata": {},
   "outputs": [
    {
     "name": "stderr",
     "output_type": "stream",
     "text": [
      "C:\\Users\\HP\\anaconda3\\lib\\site-packages\\seaborn\\_decorators.py:36: FutureWarning: Pass the following variables as keyword args: x, y. From version 0.12, the only valid positional argument will be `data`, and passing other arguments without an explicit keyword will result in an error or misinterpretation.\n",
      "  warnings.warn(\n"
     ]
    },
    {
     "data": {
      "text/plain": [
       "Text(0, 0.5, 'False Values')"
      ]
     },
     "execution_count": 141,
     "metadata": {},
     "output_type": "execute_result"
    },
    {
     "data": {
      "image/png": "[encoded data removed]",
      "text/plain": [
       "<Figure size 432x288 with 1 Axes>"
      ]
     },
     "metadata": {
      "needs_background": "light"
     },
     "output_type": "display_data"
    }
   ],
   "source": [
    "plt.title('Linear Regression')\n",
    "sns.regplot(y_test,lmpredict)\n",
    "plt.xlabel('True Values')\n",
    "plt.ylabel('False Values')"
   ]
  },
  {
   "cell_type": "code",
   "execution_count": 142,
   "id": "ddaa712e",
   "metadata": {},
   "outputs": [],
   "source": [
    "rf=RandomForestRegressor(random_state=1234)"
   ]
  },
  {
   "cell_type": "code",
   "execution_count": 144,
   "id": "410fc25a",
   "metadata": {},
   "outputs": [],
   "source": [
    "rf?"
   ]
  },
  {
   "cell_type": "code",
   "execution_count": 155,
   "id": "a18de3df",
   "metadata": {},
   "outputs": [
    {
     "name": "stdout",
     "output_type": "stream",
     "text": [
      "The Randomized Search {'n_estimators': 300, 'max_features': 'log2', 'max_depth': 8, 'bootstrap': False}\n",
      "The time taken in rnadomized search 39.470213\n"
     ]
    }
   ],
   "source": [
    "from sklearn.model_selection import RandomizedSearchCV\n",
    "np.random.seed(12)\n",
    "start=time.time()\n",
    "\n",
    "param_dist={'max_depth': [2,4,6,8,10],\n",
    "              'bootstrap': [True, False],\n",
    "              'max_features': ['auto', 'sqrt', 'log2',None],\n",
    "              \"n_estimators\" : [100 ,200 ,300 ,400 ,500]\n",
    "             }\n",
    "\n",
    "cv_randomforest = RandomizedSearchCV (rf,cv=10,param_distributions=param_dist,n_iter=10)\n",
    "\n",
    "cv_randomforest.fit(x_train,y_train)\n",
    "print('The Randomized Search',cv_randomforest.best_params_)\n",
    "end=time.time()\n",
    "print(\"The time taken in rnadomized search {0:2f}\".format(end-start))"
   ]
  },
  {
   "cell_type": "code",
   "execution_count": 156,
   "id": "034aaf88",
   "metadata": {},
   "outputs": [
    {
     "data": {
      "text/plain": [
       "RandomForestRegressor(random_state=1234)"
      ]
     },
     "execution_count": 156,
     "metadata": {},
     "output_type": "execute_result"
    }
   ],
   "source": [
    "rf.fit(x_train,y_train)"
   ]
  },
  {
   "cell_type": "code",
   "execution_count": 157,
   "id": "bbe8fbed",
   "metadata": {},
   "outputs": [],
   "source": [
    "rf_predict=rf.predict(x_test)"
   ]
  },
  {
   "cell_type": "code",
   "execution_count": 158,
   "id": "dd487e51",
   "metadata": {},
   "outputs": [],
   "source": [
    "rf_error=mean_squared_error(rf_predict,y_test)"
   ]
  },
  {
   "cell_type": "code",
   "execution_count": 159,
   "id": "a23588f9",
   "metadata": {},
   "outputs": [
    {
     "data": {
      "text/plain": [
       "415495.567598"
      ]
     },
     "execution_count": 159,
     "metadata": {},
     "output_type": "execute_result"
    }
   ],
   "source": [
    "rf_error"
   ]
  },
  {
   "cell_type": "code",
   "execution_count": 160,
   "id": "f700d5b8",
   "metadata": {},
   "outputs": [],
   "source": [
    "rf_rmse=sqrt(mean_squared_error(rf_predict,y_test))"
   ]
  },
  {
   "cell_type": "code",
   "execution_count": 161,
   "id": "897c8d31",
   "metadata": {},
   "outputs": [
    {
     "data": {
      "text/plain": [
       "644.5894566295667"
      ]
     },
     "execution_count": 161,
     "metadata": {},
     "output_type": "execute_result"
    }
   ],
   "source": [
    "rf_rmse"
   ]
  },
  {
   "cell_type": "code",
   "execution_count": 165,
   "id": "5fcc87bd",
   "metadata": {},
   "outputs": [
    {
     "data": {
      "text/plain": [
       "<AxesSubplot:>"
      ]
     },
     "execution_count": 165,
     "metadata": {},
     "output_type": "execute_result"
    },
    {
     "data": {
      "image/png": "[encoded data removed]",
      "text/plain": [
       "<Figure size 432x288 with 1 Axes>"
      ]
     },
     "metadata": {
      "needs_background": "light"
     },
     "output_type": "display_data"
    }
   ],
   "source": [
    "feature=pd.Series(rf.feature_importances_,index=x_train.columns)\n",
    "feature.plot(kind='barh')"
   ]
  },
  {
   "cell_type": "code",
   "execution_count": 213,
   "id": "f8ea2ab3",
   "metadata": {},
   "outputs": [],
   "source": [
    "#model input and output\n",
    "pd.DataFrame(x_test).to_csv('InputLinearRegressionRandomForestPyhon.csv', index = False)\n",
    "pd.DataFrame(lmpredict,columns=['total_rental']).to_csv('outputLinearRegressionPython.csv')\n",
    "pd.DataFrame(rf_predict, columns=['total_rental']).to_csv('outputRandomForestPython.csv')"
   ]
  },
  {
   "cell_type": "code",
   "execution_count": 214,
   "id": "7b5661e7",
   "metadata": {},
   "outputs": [
    {
     "data": {
      "text/html": [
       "<div>\n",
       "<style scoped>\n",
       "    .dataframe tbody tr th:only-of-type {\n",
       "        vertical-align: middle;\n",
       "    }\n",
       "\n",
       "    .dataframe tbody tr th {\n",
       "        vertical-align: top;\n",
       "    }\n",
       "\n",
       "    .dataframe thead th {\n",
       "        text-align: right;\n",
       "    }\n",
       "</style>\n",
       "<table border=\"1\" class=\"dataframe\">\n",
       "  <thead>\n",
       "    <tr style=\"text-align: right;\">\n",
       "      <th></th>\n",
       "      <th>Unnamed: 0</th>\n",
       "      <th>total_rental</th>\n",
       "    </tr>\n",
       "  </thead>\n",
       "  <tbody>\n",
       "    <tr>\n",
       "      <th>0</th>\n",
       "      <td>0</td>\n",
       "      <td>5364.03</td>\n",
       "    </tr>\n",
       "    <tr>\n",
       "      <th>1</th>\n",
       "      <td>1</td>\n",
       "      <td>4317.76</td>\n",
       "    </tr>\n",
       "    <tr>\n",
       "      <th>2</th>\n",
       "      <td>2</td>\n",
       "      <td>2362.66</td>\n",
       "    </tr>\n",
       "    <tr>\n",
       "      <th>3</th>\n",
       "      <td>3</td>\n",
       "      <td>6426.49</td>\n",
       "    </tr>\n",
       "    <tr>\n",
       "      <th>4</th>\n",
       "      <td>4</td>\n",
       "      <td>4246.85</td>\n",
       "    </tr>\n",
       "    <tr>\n",
       "      <th>...</th>\n",
       "      <td>...</td>\n",
       "      <td>...</td>\n",
       "    </tr>\n",
       "    <tr>\n",
       "      <th>145</th>\n",
       "      <td>145</td>\n",
       "      <td>7019.48</td>\n",
       "    </tr>\n",
       "    <tr>\n",
       "      <th>146</th>\n",
       "      <td>146</td>\n",
       "      <td>2826.42</td>\n",
       "    </tr>\n",
       "    <tr>\n",
       "      <th>147</th>\n",
       "      <td>147</td>\n",
       "      <td>3618.98</td>\n",
       "    </tr>\n",
       "    <tr>\n",
       "      <th>148</th>\n",
       "      <td>148</td>\n",
       "      <td>4463.29</td>\n",
       "    </tr>\n",
       "    <tr>\n",
       "      <th>149</th>\n",
       "      <td>149</td>\n",
       "      <td>3035.86</td>\n",
       "    </tr>\n",
       "  </tbody>\n",
       "</table>\n",
       "<p>150 rows × 2 columns</p>\n",
       "</div>"
      ],
      "text/plain": [
       "     Unnamed: 0  total_rental\n",
       "0             0       5364.03\n",
       "1             1       4317.76\n",
       "2             2       2362.66\n",
       "3             3       6426.49\n",
       "4             4       4246.85\n",
       "..          ...           ...\n",
       "145         145       7019.48\n",
       "146         146       2826.42\n",
       "147         147       3618.98\n",
       "148         148       4463.29\n",
       "149         149       3035.86\n",
       "\n",
       "[150 rows x 2 columns]"
      ]
     },
     "execution_count": 214,
     "metadata": {},
     "output_type": "execute_result"
    }
   ],
   "source": [
    "pd.read_csv('outputRandomForestPython.csv')"
   ]
  },
  {
   "cell_type": "code",
   "execution_count": 210,
   "id": "7903bad0",
   "metadata": {},
   "outputs": [
    {
     "data": {
      "text/html": [
       "<div>\n",
       "<style scoped>\n",
       "    .dataframe tbody tr th:only-of-type {\n",
       "        vertical-align: middle;\n",
       "    }\n",
       "\n",
       "    .dataframe tbody tr th {\n",
       "        vertical-align: top;\n",
       "    }\n",
       "\n",
       "    .dataframe thead th {\n",
       "        text-align: right;\n",
       "    }\n",
       "</style>\n",
       "<table border=\"1\" class=\"dataframe\">\n",
       "  <thead>\n",
       "    <tr style=\"text-align: right;\">\n",
       "      <th></th>\n",
       "      <th>Unnamed: 0</th>\n",
       "      <th>total_rental</th>\n",
       "    </tr>\n",
       "  </thead>\n",
       "  <tbody>\n",
       "    <tr>\n",
       "      <th>0</th>\n",
       "      <td>0</td>\n",
       "      <td>4386.374437</td>\n",
       "    </tr>\n",
       "    <tr>\n",
       "      <th>1</th>\n",
       "      <td>1</td>\n",
       "      <td>3972.220828</td>\n",
       "    </tr>\n",
       "    <tr>\n",
       "      <th>2</th>\n",
       "      <td>2</td>\n",
       "      <td>3244.080034</td>\n",
       "    </tr>\n",
       "    <tr>\n",
       "      <th>3</th>\n",
       "      <td>3</td>\n",
       "      <td>6121.011622</td>\n",
       "    </tr>\n",
       "    <tr>\n",
       "      <th>4</th>\n",
       "      <td>4</td>\n",
       "      <td>5509.055004</td>\n",
       "    </tr>\n",
       "    <tr>\n",
       "      <th>...</th>\n",
       "      <td>...</td>\n",
       "      <td>...</td>\n",
       "    </tr>\n",
       "    <tr>\n",
       "      <th>145</th>\n",
       "      <td>145</td>\n",
       "      <td>7335.810843</td>\n",
       "    </tr>\n",
       "    <tr>\n",
       "      <th>146</th>\n",
       "      <td>146</td>\n",
       "      <td>3255.237579</td>\n",
       "    </tr>\n",
       "    <tr>\n",
       "      <th>147</th>\n",
       "      <td>147</td>\n",
       "      <td>3529.875827</td>\n",
       "    </tr>\n",
       "    <tr>\n",
       "      <th>148</th>\n",
       "      <td>148</td>\n",
       "      <td>3551.113982</td>\n",
       "    </tr>\n",
       "    <tr>\n",
       "      <th>149</th>\n",
       "      <td>149</td>\n",
       "      <td>3741.620166</td>\n",
       "    </tr>\n",
       "  </tbody>\n",
       "</table>\n",
       "<p>150 rows × 2 columns</p>\n",
       "</div>"
      ],
      "text/plain": [
       "     Unnamed: 0  total_rental\n",
       "0             0   4386.374437\n",
       "1             1   3972.220828\n",
       "2             2   3244.080034\n",
       "3             3   6121.011622\n",
       "4             4   5509.055004\n",
       "..          ...           ...\n",
       "145         145   7335.810843\n",
       "146         146   3255.237579\n",
       "147         147   3529.875827\n",
       "148         148   3551.113982\n",
       "149         149   3741.620166\n",
       "\n",
       "[150 rows x 2 columns]"
      ]
     },
     "execution_count": 210,
     "metadata": {},
     "output_type": "execute_result"
    }
   ],
   "source": [
    "pd.read_csv('outputLinearRegressionPython.csv')"
   ]
  },
  {
   "cell_type": "code",
   "execution_count": 228,
   "id": "1d22531e",
   "metadata": {},
   "outputs": [
    {
     "data": {
      "text/html": [
       "<div>\n",
       "<style scoped>\n",
       "    .dataframe tbody tr th:only-of-type {\n",
       "        vertical-align: middle;\n",
       "    }\n",
       "\n",
       "    .dataframe tbody tr th {\n",
       "        vertical-align: top;\n",
       "    }\n",
       "\n",
       "    .dataframe thead th {\n",
       "        text-align: right;\n",
       "    }\n",
       "</style>\n",
       "<table border=\"1\" class=\"dataframe\">\n",
       "  <thead>\n",
       "    <tr style=\"text-align: right;\">\n",
       "      <th></th>\n",
       "      <th>ID</th>\n",
       "      <th>dteday</th>\n",
       "      <th>season</th>\n",
       "      <th>year</th>\n",
       "      <th>Month</th>\n",
       "      <th>is_holiday</th>\n",
       "      <th>weekdaynum</th>\n",
       "      <th>is_workingday</th>\n",
       "      <th>weathersituation</th>\n",
       "      <th>atemp_normalized</th>\n",
       "      <th>humidity_normalized</th>\n",
       "      <th>windspeed_normalized</th>\n",
       "    </tr>\n",
       "  </thead>\n",
       "  <tbody>\n",
       "    <tr>\n",
       "      <th>126</th>\n",
       "      <td>A726</td>\n",
       "      <td>26-12-2012</td>\n",
       "      <td>1</td>\n",
       "      <td>1</td>\n",
       "      <td>12</td>\n",
       "      <td>0</td>\n",
       "      <td>3</td>\n",
       "      <td>1</td>\n",
       "      <td>3</td>\n",
       "      <td>0.220333</td>\n",
       "      <td>0.823333</td>\n",
       "      <td>0.316546</td>\n",
       "    </tr>\n",
       "    <tr>\n",
       "      <th>127</th>\n",
       "      <td>A727</td>\n",
       "      <td>27-12-2012</td>\n",
       "      <td>1</td>\n",
       "      <td>1</td>\n",
       "      <td>12</td>\n",
       "      <td>0</td>\n",
       "      <td>4</td>\n",
       "      <td>1</td>\n",
       "      <td>2</td>\n",
       "      <td>0.226642</td>\n",
       "      <td>0.652917</td>\n",
       "      <td>0.350133</td>\n",
       "    </tr>\n",
       "    <tr>\n",
       "      <th>128</th>\n",
       "      <td>A728</td>\n",
       "      <td>28-12-2012</td>\n",
       "      <td>1</td>\n",
       "      <td>1</td>\n",
       "      <td>12</td>\n",
       "      <td>0</td>\n",
       "      <td>5</td>\n",
       "      <td>1</td>\n",
       "      <td>2</td>\n",
       "      <td>0.255046</td>\n",
       "      <td>0.590000</td>\n",
       "      <td>0.155471</td>\n",
       "    </tr>\n",
       "    <tr>\n",
       "      <th>129</th>\n",
       "      <td>A729</td>\n",
       "      <td>29-12-2012</td>\n",
       "      <td>1</td>\n",
       "      <td>1</td>\n",
       "      <td>12</td>\n",
       "      <td>0</td>\n",
       "      <td>6</td>\n",
       "      <td>0</td>\n",
       "      <td>2</td>\n",
       "      <td>0.242400</td>\n",
       "      <td>0.752917</td>\n",
       "      <td>0.124383</td>\n",
       "    </tr>\n",
       "    <tr>\n",
       "      <th>130</th>\n",
       "      <td>A730</td>\n",
       "      <td>30-12-2012</td>\n",
       "      <td>1</td>\n",
       "      <td>1</td>\n",
       "      <td>12</td>\n",
       "      <td>0</td>\n",
       "      <td>0</td>\n",
       "      <td>0</td>\n",
       "      <td>1</td>\n",
       "      <td>0.231700</td>\n",
       "      <td>0.483333</td>\n",
       "      <td>0.350754</td>\n",
       "    </tr>\n",
       "  </tbody>\n",
       "</table>\n",
       "</div>"
      ],
      "text/plain": [
       "       ID      dteday  season  year  Month  is_holiday  weekdaynum  \\\n",
       "126  A726  26-12-2012       1     1     12           0           3   \n",
       "127  A727  27-12-2012       1     1     12           0           4   \n",
       "128  A728  28-12-2012       1     1     12           0           5   \n",
       "129  A729  29-12-2012       1     1     12           0           6   \n",
       "130  A730  30-12-2012       1     1     12           0           0   \n",
       "\n",
       "     is_workingday  weathersituation  atemp_normalized  humidity_normalized  \\\n",
       "126              1                 3          0.220333             0.823333   \n",
       "127              1                 2          0.226642             0.652917   \n",
       "128              1                 2          0.255046             0.590000   \n",
       "129              0                 2          0.242400             0.752917   \n",
       "130              0                 1          0.231700             0.483333   \n",
       "\n",
       "     windspeed_normalized  \n",
       "126              0.316546  \n",
       "127              0.350133  \n",
       "128              0.155471  \n",
       "129              0.124383  \n",
       "130              0.350754  "
      ]
     },
     "execution_count": 228,
     "metadata": {},
     "output_type": "execute_result"
    }
   ],
   "source": [
    "test=pd.read_csv('bike_test.csv')\n",
    "test['ID']=pd.Series(test['ID'])"
   ]
  },
  {
   "cell_type": "code",
   "execution_count": null,
   "id": "b9c0ef88",
   "metadata": {},
   "outputs": [],
   "source": []
  }
 ],
 "metadata": {
  "kernelspec": {
   "display_name": "Python 3 (ipykernel)",
   "language": "python",
   "name": "python3"
  },
  "language_info": {
   "codemirror_mode": {
    "name": "ipython",
    "version": 3
   },
   "file_extension": ".py",
   "mimetype": "text/x-python",
   "name": "python",
   "nbconvert_exporter": "python",
   "pygments_lexer": "ipython3",
   "version": "3.9.7"
  }
 },
 "nbformat": 4,
 "nbformat_minor": 5
}
